{
 "cells": [
  {
   "cell_type": "markdown",
   "metadata": {},
   "source": [
    "<img style=\"float: left; margin: 30px 15px 15px 15px;\" src=\"https://pngimage.net/wp-content/uploads/2018/06/logo-iteso-png-5.png\" width=\"300\" height=\"500\" /> \n",
    "    \n",
    "    \n",
    "### <font color='navy'> Simulación de procesos financieros. \n",
    "\n",
    "**Nombres:** Ana Paula Guisti, Chelsi Sedano, Daniel García.\n",
    "\n",
    "**Fecha:** 05 de marzo del 2020.\n",
    "\n",
    "**Expediente** : XX, XX, 715989.\n",
    "\n",
    "**Profesor:** Oscar David Jaramillo Zuluaga.\n",
    "\n",
    "# Tarea 7: Clase 11"
   ]
  },
  {
   "cell_type": "markdown",
   "metadata": {},
   "source": [
    "## Enunciado de tarea \n",
    "La tarea debe de realizarse en grupos, los cuales están nombrados en la siguiente tabla. La tarea consiste en modificar una de las páginas que corresponde a el grupo conformado, por ejemplo si eres el grupo 1, debes de modificar la página que corresponde a tu grupo, no ninguna de las otras páginas. En dicha página les voy a pedir que en una breve exposición, de aproximadamente 5 a 7 minutos, la próxima clase martes 1 de octubre, expongan sus respectivas consultas aceca de cada una de las distribuciones de probabilidad asignadas. Lo que necesito que consulten es:\n",
    "\n",
    "1. Explicación del uso de cada distribución de probabilidad.\n",
    "\n",
    "2. Utilizar recursos audiovisuales, como videos, tablas, gifts, imágenes, enlace externos, etc, los cuales desde esta plataforma de canvas es posible introducir, en donde expliquen de la forma mas amigable y simple posible, las aplicaciones y usos de las distribuciones de probabilidad asignadas.\n",
    "\n",
    "3. Consultar en libros, internet, aplicaciones de como usar dichas distribuciones, por qué usarlas y posibles aplicaciones en finanzas.\n",
    "\n",
    "4. También pueden poner la descripción matemática de dischas distribuciones. Noten que pueden ingresar código latex para poder ingresar ecuaciones y demás.\n",
    "\n",
    "5. Poner pantallazos del código y resultados de como usar dicha función de distribución de probabilidad en python. Algo como esto\n",
    "\n",
    "6. ¿Cómo pudieran responder la pregunta P(X<b)=** ? Para el caso de la distribución poisson exploren el comando `st.poisson(Lamda).ppf(b)`"
   ]
  },
  {
   "cell_type": "markdown",
   "metadata": {},
   "source": [
    "### Poisson"
   ]
  },
  {
   "cell_type": "markdown",
   "metadata": {},
   "source": [
    "Es una función discreta. Concretamente, se especializa en la probabilidad de ocurrencia de sucesos con probabilidades muy pequeñas, o sucesos raros.\n",
    "\n",
    "Este  modelo  de  probabilidad  puede  ser  aplicado  siempre  y  cuando  la  variable  aleatoria  haga  referencia  a  tiempo  o  espacio.\n",
    "\n",
    "Su función de distribución es:\n",
    "$$f(k,\\lambda)=\\frac{e^{-\\lambda}\\lambda^{k}}{k!}$$\n",
    "donde \n",
    "- $k$ es el número de ocurrencias del evento.\n",
    "- $\\lambda$ es el número de veces que se espera que ocurra el fenómeno durante un intervalo dado.\n",
    "\n",
    "Tanto el valor esperado como la varianza de una variable aleatoria que tiene una distribución de Poisson son iguales a $\\lambda$.\n",
    "\n",
    "La distribución de Poisson se aplica a varios fenómenos discretos de la naturaleza cuando la probabilidad de ocurrencia del fenómeno es constante en el tiempo o el espacio. Ejemplos de estos eventos que pueden ser modelados por la distribución de Poisson incluyen:\n",
    "- El número de autos que pasan a través de un cierto punto en una ruta (suficientemente distantes de los semáforos) durante un periodo definido de tiempo.\n",
    "- El número de errores de ortografía que uno comete al escribir una única página.\n",
    "- El número de llamadas telefónicas en una central telefónica por minuto.\n",
    "- El número de servidores web accedidos por minuto."
   ]
  },
  {
   "cell_type": "code",
   "execution_count": 1,
   "metadata": {},
   "outputs": [],
   "source": [
    "# Importamos librerías a trabajar en todas las simulaciones\n",
    "import matplotlib.pyplot as plt\n",
    "import numpy as np\n",
    "import scipy.stats as st     # Librería estadística\n",
    "from math import factorial as fac # Importo la operación factorial\n",
    "\n",
    "%matplotlib inline"
   ]
  },
  {
   "cell_type": "code",
   "execution_count": 15,
   "metadata": {},
   "outputs": [
    {
     "data": {
      "image/png": "[encoded data removed]",
      "text/plain": [
       "<Figure size 1080x288 with 2 Axes>"
      ]
     },
     "metadata": {},
     "output_type": "display_data"
    }
   ],
   "source": [
    "# Definimos nuestros parámetros\n",
    "lamda = [30,50]\n",
    "k = np.arange(0,100)\n",
    "\n",
    "# Obtenemos la distribución de probabilidad\n",
    "p = np.array([st.poisson(lamda[i]).pmf(k) for i in range(len(lamda))])\n",
    "# Se pone pmf porque significa Probability mass function.\n",
    "\n",
    "# Obtenemos la distribución de probabilidad acumulada\n",
    "p_acum = np.array([st.poisson(lamda[i]).cdf(k) for i in range(len(lamda))])\n",
    "# Se pone cdf porque significa Cumulative distribution function.\n",
    "\n",
    "# Graficamos\n",
    "fig,(ax1,ax2) = plt.subplots(1,2)\n",
    "fig.set_figwidth(15)\n",
    "ax1.plot(p.T,'o',markersize=3)\n",
    "ax1.legend(['$\\lambda$=%d'%lamda[0],'$\\lambda$=%d'%lamda[1]])\n",
    "ax1.set_title('Densidad de probabilidad')\n",
    "\n",
    "# Probabilidad acumulada\n",
    "ax2.plot(p_acum.T,'o',markersize=3)\n",
    "ax2.legend(['$\\lambda$=%d'%lamda[0],'$\\lambda$=%d'%lamda[1]])\n",
    "ax2.set_title('Distribución acumulada')\n",
    "\n",
    "plt.show()"
   ]
  },
  {
   "cell_type": "code",
   "execution_count": 47,
   "metadata": {
    "scrolled": false
   },
   "outputs": [
    {
     "data": {
      "text/plain": [
       "array([30., 50.])"
      ]
     },
     "execution_count": 47,
     "metadata": {},
     "output_type": "execute_result"
    }
   ],
   "source": [
    "#ppf =  Percent point function (inverse of ``cdf`` --- percentiles).\n",
    "q = .5\n",
    "p_prob = np.array([st.poisson(lamda[i]).ppf(q) for i in range(len(lamda))])\n",
    "p_prob"
   ]
  },
  {
   "cell_type": "markdown",
   "metadata": {},
   "source": [
    "**Aquí le estoy dando la probabilidad y me regresa el número de datos que entran en esa probabilidad, pero lo que buscamos es que le demos un valor y nos de una probabilidad**"
   ]
  },
  {
   "cell_type": "markdown",
   "metadata": {},
   "source": [
    "### Laplace"
   ]
  },
  {
   "cell_type": "markdown",
   "metadata": {},
   "source": [
    "Es una función continua"
   ]
  },
  {
   "cell_type": "code",
   "execution_count": null,
   "metadata": {},
   "outputs": [],
   "source": []
  }
 ],
 "metadata": {
  "kernelspec": {
   "display_name": "Python 3",
   "language": "python",
   "name": "python3"
  },
  "language_info": {
   "codemirror_mode": {
    "name": "ipython",
    "version": 3
   },
   "file_extension": ".py",
   "mimetype": "text/x-python",
   "name": "python",
   "nbconvert_exporter": "python",
   "pygments_lexer": "ipython3",
   "version": "3.6.5"
  }
 },
 "nbformat": 4,
 "nbformat_minor": 2
}
